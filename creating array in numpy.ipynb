{
 "cells": [
  {
   "cell_type": "code",
   "execution_count": 1,
   "metadata": {},
   "outputs": [
    {
     "name": "stdout",
     "output_type": "stream",
     "text": [
      "Collecting package metadata (current_repodata.json): ...working... done\n",
      "Solving environment: ...working... done\n",
      "\n",
      "## Package Plan ##\n",
      "\n",
      "  environment location: C:\\ProgramData\\Anaconda3\n",
      "\n",
      "  added / updated specs:\n",
      "    - numpy\n",
      "\n",
      "\n",
      "The following packages will be downloaded:\n",
      "\n",
      "    package                    |            build\n",
      "    ---------------------------|-----------------\n",
      "    conda-4.8.2                |           py37_0         3.1 MB  anaconda\n",
      "    openssl-1.1.1d             |       he774522_2         5.7 MB  anaconda\n",
      "    ------------------------------------------------------------\n",
      "                                           Total:         8.8 MB\n",
      "\n",
      "The following packages will be UPDATED:\n",
      "\n",
      "  conda                      pkgs/main::conda-4.7.12-py37_0 --> anaconda::conda-4.8.2-py37_0\n",
      "\n",
      "The following packages will be SUPERSEDED by a higher-priority channel:\n",
      "\n",
      "  openssl                                         pkgs/main --> anaconda\n",
      "\n",
      "\n",
      "\n",
      "Downloading and Extracting Packages\n",
      "\n",
      "conda-4.8.2          | 3.1 MB    |            |   0% \n",
      "conda-4.8.2          | 3.1 MB    |            |   1% \n",
      "conda-4.8.2          | 3.1 MB    | 1          |   2% \n",
      "conda-4.8.2          | 3.1 MB    | 4          |   5% \n",
      "conda-4.8.2          | 3.1 MB    | 9          |   9% \n",
      "conda-4.8.2          | 3.1 MB    | #2         |  12% \n",
      "conda-4.8.2          | 3.1 MB    | #4         |  14% \n",
      "conda-4.8.2          | 3.1 MB    | #8         |  18% \n",
      "conda-4.8.2          | 3.1 MB    | ##1        |  21% \n",
      "conda-4.8.2          | 3.1 MB    | ##7        |  27% \n",
      "conda-4.8.2          | 3.1 MB    | ###1       |  31% \n",
      "conda-4.8.2          | 3.1 MB    | ###4       |  34% \n",
      "conda-4.8.2          | 3.1 MB    | ###7       |  37% \n",
      "conda-4.8.2          | 3.1 MB    | ###9       |  40% \n",
      "conda-4.8.2          | 3.1 MB    | ####4      |  44% \n",
      "conda-4.8.2          | 3.1 MB    | ####7      |  47% \n",
      "conda-4.8.2          | 3.1 MB    | #####      |  50% \n",
      "conda-4.8.2          | 3.1 MB    | #####3     |  53% \n",
      "conda-4.8.2          | 3.1 MB    | #####7     |  57% \n",
      "conda-4.8.2          | 3.1 MB    | ######     |  60% \n",
      "conda-4.8.2          | 3.1 MB    | ######3    |  63% \n",
      "conda-4.8.2          | 3.1 MB    | ######6    |  67% \n",
      "conda-4.8.2          | 3.1 MB    | ######9    |  69% \n",
      "conda-4.8.2          | 3.1 MB    | #######3   |  73% \n",
      "conda-4.8.2          | 3.1 MB    | #######6   |  76% \n",
      "conda-4.8.2          | 3.1 MB    | #######8   |  79% \n",
      "conda-4.8.2          | 3.1 MB    | ########1  |  82% \n",
      "conda-4.8.2          | 3.1 MB    | ########5  |  86% \n",
      "conda-4.8.2          | 3.1 MB    | ########9  |  89% \n",
      "conda-4.8.2          | 3.1 MB    | #########2 |  92% \n",
      "conda-4.8.2          | 3.1 MB    | #########5 |  95% \n",
      "conda-4.8.2          | 3.1 MB    | #########8 |  98% \n",
      "conda-4.8.2          | 3.1 MB    | ########## | 100% \n",
      "\n",
      "openssl-1.1.1d       | 5.7 MB    |            |   0% \n",
      "openssl-1.1.1d       | 5.7 MB    |            |   0% \n",
      "openssl-1.1.1d       | 5.7 MB    | 1          |   1% \n",
      "openssl-1.1.1d       | 5.7 MB    | 3          |   3% \n",
      "openssl-1.1.1d       | 5.7 MB    | 4          |   4% \n",
      "openssl-1.1.1d       | 5.7 MB    | 4          |   5% \n",
      "openssl-1.1.1d       | 5.7 MB    | 6          |   7% \n",
      "openssl-1.1.1d       | 5.7 MB    | 7          |   7% \n",
      "openssl-1.1.1d       | 5.7 MB    | 8          |   8% \n",
      "openssl-1.1.1d       | 5.7 MB    | 9          |   9% \n",
      "openssl-1.1.1d       | 5.7 MB    | 9          |  10% \n",
      "openssl-1.1.1d       | 5.7 MB    | #          |  11% \n",
      "openssl-1.1.1d       | 5.7 MB    | #1         |  11% \n",
      "openssl-1.1.1d       | 5.7 MB    | #2         |  12% \n",
      "openssl-1.1.1d       | 5.7 MB    | #3         |  13% \n",
      "openssl-1.1.1d       | 5.7 MB    | #3         |  14% \n",
      "openssl-1.1.1d       | 5.7 MB    | #4         |  15% \n",
      "openssl-1.1.1d       | 5.7 MB    | #5         |  16% \n",
      "openssl-1.1.1d       | 5.7 MB    | #6         |  16% \n",
      "openssl-1.1.1d       | 5.7 MB    | #6         |  17% \n",
      "openssl-1.1.1d       | 5.7 MB    | #8         |  18% \n",
      "openssl-1.1.1d       | 5.7 MB    | #9         |  19% \n",
      "openssl-1.1.1d       | 5.7 MB    | #9         |  20% \n",
      "openssl-1.1.1d       | 5.7 MB    | ##         |  20% \n",
      "openssl-1.1.1d       | 5.7 MB    | ##1        |  21% \n",
      "openssl-1.1.1d       | 5.7 MB    | ##1        |  22% \n",
      "openssl-1.1.1d       | 5.7 MB    | ##2        |  22% \n",
      "openssl-1.1.1d       | 5.7 MB    | ##2        |  23% \n",
      "openssl-1.1.1d       | 5.7 MB    | ##3        |  24% \n",
      "openssl-1.1.1d       | 5.7 MB    | ##4        |  25% \n",
      "openssl-1.1.1d       | 5.7 MB    | ##5        |  25% \n",
      "openssl-1.1.1d       | 5.7 MB    | ##5        |  26% \n",
      "openssl-1.1.1d       | 5.7 MB    | ##6        |  26% \n",
      "openssl-1.1.1d       | 5.7 MB    | ##7        |  28% \n",
      "openssl-1.1.1d       | 5.7 MB    | ##8        |  29% \n",
      "openssl-1.1.1d       | 5.7 MB    | ##9        |  29% \n",
      "openssl-1.1.1d       | 5.7 MB    | ###        |  31% \n",
      "openssl-1.1.1d       | 5.7 MB    | ###1       |  32% \n",
      "openssl-1.1.1d       | 5.7 MB    | ###3       |  33% \n",
      "openssl-1.1.1d       | 5.7 MB    | ###4       |  35% \n",
      "openssl-1.1.1d       | 5.7 MB    | ###6       |  36% \n",
      "openssl-1.1.1d       | 5.7 MB    | ###7       |  38% \n",
      "openssl-1.1.1d       | 5.7 MB    | ###9       |  39% \n",
      "openssl-1.1.1d       | 5.7 MB    | ####1      |  41% \n",
      "openssl-1.1.1d       | 5.7 MB    | ####4      |  44% \n",
      "openssl-1.1.1d       | 5.7 MB    | ####6      |  46% \n",
      "openssl-1.1.1d       | 5.7 MB    | ####7      |  48% \n",
      "openssl-1.1.1d       | 5.7 MB    | ####9      |  49% \n",
      "openssl-1.1.1d       | 5.7 MB    | #####1     |  51% \n",
      "openssl-1.1.1d       | 5.7 MB    | #####4     |  54% \n",
      "openssl-1.1.1d       | 5.7 MB    | #####6     |  56% \n",
      "openssl-1.1.1d       | 5.7 MB    | #####7     |  58% \n",
      "openssl-1.1.1d       | 5.7 MB    | #####9     |  60% \n",
      "openssl-1.1.1d       | 5.7 MB    | ######1    |  61% \n",
      "openssl-1.1.1d       | 5.7 MB    | ######3    |  63% \n",
      "openssl-1.1.1d       | 5.7 MB    | ######4    |  65% \n",
      "openssl-1.1.1d       | 5.7 MB    | ######6    |  67% \n",
      "openssl-1.1.1d       | 5.7 MB    | ######7    |  68% \n",
      "openssl-1.1.1d       | 5.7 MB    | ######9    |  69% \n",
      "openssl-1.1.1d       | 5.7 MB    | #######    |  71% \n",
      "openssl-1.1.1d       | 5.7 MB    | #######2   |  72% \n",
      "openssl-1.1.1d       | 5.7 MB    | #######4   |  74% \n",
      "openssl-1.1.1d       | 5.7 MB    | #######5   |  75% \n",
      "openssl-1.1.1d       | 5.7 MB    | #######6   |  76% \n",
      "openssl-1.1.1d       | 5.7 MB    | #######8   |  78% \n",
      "openssl-1.1.1d       | 5.7 MB    | #######9   |  80% \n",
      "openssl-1.1.1d       | 5.7 MB    | ########1  |  81% \n",
      "openssl-1.1.1d       | 5.7 MB    | ########2  |  83% \n",
      "openssl-1.1.1d       | 5.7 MB    | ########5  |  86% \n",
      "openssl-1.1.1d       | 5.7 MB    | ########7  |  87% \n",
      "openssl-1.1.1d       | 5.7 MB    | ########8  |  89% \n",
      "openssl-1.1.1d       | 5.7 MB    | #########  |  91% \n",
      "openssl-1.1.1d       | 5.7 MB    | #########1 |  92% \n",
      "openssl-1.1.1d       | 5.7 MB    | #########3 |  94% \n",
      "openssl-1.1.1d       | 5.7 MB    | #########5 |  96% \n",
      "openssl-1.1.1d       | 5.7 MB    | #########6 |  97% \n",
      "openssl-1.1.1d       | 5.7 MB    | ########## | 100% \n",
      "Preparing transaction: ...working... done\n",
      "Verifying transaction: ...working... failed\n",
      "\n",
      "Note: you may need to restart the kernel to use updated packages.\n"
     ]
    },
    {
     "name": "stderr",
     "output_type": "stream",
     "text": [
      "\n",
      "\n",
      "==> WARNING: A newer version of conda exists. <==\n",
      "  current version: 4.7.12\n",
      "  latest version: 4.8.2\n",
      "\n",
      "Please update conda by running\n",
      "\n",
      "    $ conda update -n base -c defaults conda\n",
      "\n",
      "\n",
      "\n",
      "EnvironmentNotWritableError: The current user does not have write permissions to the target environment.\n",
      "  environment location: C:\\ProgramData\\Anaconda3\n",
      "\n",
      "\n"
     ]
    }
   ],
   "source": [
    "conda install -c anaconda numpy"
   ]
  },
  {
   "cell_type": "markdown",
   "metadata": {},
   "source": [
    "# numpy array"
   ]
  },
  {
   "cell_type": "code",
   "execution_count": 2,
   "metadata": {},
   "outputs": [],
   "source": [
    "import numpy as np"
   ]
  },
  {
   "cell_type": "code",
   "execution_count": 22,
   "metadata": {},
   "outputs": [],
   "source": [
    "nums_1d = [1,2,3] # 1d matrix"
   ]
  },
  {
   "cell_type": "code",
   "execution_count": 23,
   "metadata": {},
   "outputs": [],
   "source": [
    "nums_1d = np.array(nums_1d)"
   ]
  },
  {
   "cell_type": "code",
   "execution_count": 28,
   "metadata": {},
   "outputs": [
    {
     "data": {
      "text/plain": [
       "array([1, 2, 3])"
      ]
     },
     "execution_count": 28,
     "metadata": {},
     "output_type": "execute_result"
    }
   ],
   "source": [
    "nums_1d"
   ]
  },
  {
   "cell_type": "code",
   "execution_count": 29,
   "metadata": {},
   "outputs": [
    {
     "data": {
      "text/plain": [
       "1"
      ]
     },
     "execution_count": 29,
     "metadata": {},
     "output_type": "execute_result"
    }
   ],
   "source": [
    "nums_1d.ndim  # To know about the dimentions of array we use \"arrayname.ndim\""
   ]
  },
  {
   "cell_type": "code",
   "execution_count": 30,
   "metadata": {},
   "outputs": [
    {
     "data": {
      "text/plain": [
       "(3,)"
      ]
     },
     "execution_count": 30,
     "metadata": {},
     "output_type": "execute_result"
    }
   ],
   "source": [
    "nums_1d.shape # To know about the shape array we use \"arrayname.shape\""
   ]
  },
  {
   "cell_type": "code",
   "execution_count": 12,
   "metadata": {},
   "outputs": [],
   "source": [
    "nums_2d = [[1,2,3],[4,5,6]] # 2d matrix"
   ]
  },
  {
   "cell_type": "code",
   "execution_count": 13,
   "metadata": {},
   "outputs": [],
   "source": [
    "nums_2d = np.array(nums_2d)"
   ]
  },
  {
   "cell_type": "code",
   "execution_count": 14,
   "metadata": {},
   "outputs": [
    {
     "data": {
      "text/plain": [
       "array([[1, 2, 3],\n",
       "       [4, 5, 6]])"
      ]
     },
     "execution_count": 14,
     "metadata": {},
     "output_type": "execute_result"
    }
   ],
   "source": [
    "nums_2d\n",
    "nums_2d.ndim"
   ]
  },
  {
   "cell_type": "code",
   "execution_count": 35,
   "metadata": {},
   "outputs": [
    {
     "data": {
      "text/plain": [
       "array([[[1, 2, 3],\n",
       "        [4, 5, 6]],\n",
       "\n",
       "       [[7, 8, 9],\n",
       "        [2, 3, 4]]])"
      ]
     },
     "execution_count": 35,
     "metadata": {},
     "output_type": "execute_result"
    }
   ],
   "source": [
    "nums_3d = [[[1,2,3],[4,5,6]],[[7,8,9],[2,3,4]]] # 3d matrix\n",
    "nums_3d = np.array(nums_3d)\n",
    "nums_3d"
   ]
  },
  {
   "cell_type": "code",
   "execution_count": 20,
   "metadata": {},
   "outputs": [
    {
     "data": {
      "text/plain": [
       "3"
      ]
     },
     "execution_count": 20,
     "metadata": {},
     "output_type": "execute_result"
    }
   ],
   "source": [
    "nums_3d.ndim"
   ]
  },
  {
   "cell_type": "code",
   "execution_count": 31,
   "metadata": {},
   "outputs": [
    {
     "data": {
      "text/plain": [
       "(2, 2, 3)"
      ]
     },
     "execution_count": 31,
     "metadata": {},
     "output_type": "execute_result"
    }
   ],
   "source": [
    "nums_3d.shape"
   ]
  },
  {
   "cell_type": "code",
   "execution_count": 36,
   "metadata": {},
   "outputs": [],
   "source": [
    "#nump array only store one type of data \n",
    "# numpy arrays are fater ther python list "
   ]
  },
  {
   "cell_type": "code",
   "execution_count": 48,
   "metadata": {},
   "outputs": [],
   "source": [
    "nums_str = [1,2,3,True] # if any entry in array is string it become string\n",
    "# if any entry in array of int, bool, foat is float then it convert all the entries/ values to float\n",
    "# if any entry in array of int, bool is int then it convert all the entries/ values to int"
   ]
  },
  {
   "cell_type": "code",
   "execution_count": 49,
   "metadata": {},
   "outputs": [],
   "source": [
    "nums_str = np.array(nums_str)"
   ]
  },
  {
   "cell_type": "code",
   "execution_count": 50,
   "metadata": {},
   "outputs": [
    {
     "data": {
      "text/plain": [
       "dtype('int32')"
      ]
     },
     "execution_count": 50,
     "metadata": {},
     "output_type": "execute_result"
    }
   ],
   "source": [
    "nums_str.dtype"
   ]
  },
  {
   "cell_type": "code",
   "execution_count": 51,
   "metadata": {},
   "outputs": [
    {
     "data": {
      "text/plain": [
       "array([1, 2, 3, 1])"
      ]
     },
     "execution_count": 51,
     "metadata": {},
     "output_type": "execute_result"
    }
   ],
   "source": [
    "nums_str"
   ]
  },
  {
   "cell_type": "markdown",
   "metadata": {},
   "source": [
    "# Functions in numpy"
   ]
  },
  {
   "cell_type": "code",
   "execution_count": 52,
   "metadata": {},
   "outputs": [],
   "source": [
    "# Functions in Numpy\n",
    "# zeros, Ones , eye , diag , randint , rand , randn "
   ]
  },
  {
   "cell_type": "code",
   "execution_count": 53,
   "metadata": {},
   "outputs": [
    {
     "data": {
      "text/plain": [
       "array([0., 0., 0., 0., 0.])"
      ]
     },
     "execution_count": 53,
     "metadata": {},
     "output_type": "execute_result"
    }
   ],
   "source": [
    "arr = np.zeros(5) \n",
    "arr"
   ]
  },
  {
   "cell_type": "code",
   "execution_count": 54,
   "metadata": {},
   "outputs": [
    {
     "data": {
      "text/plain": [
       "array([[0., 0., 0.],\n",
       "       [0., 0., 0.]])"
      ]
     },
     "execution_count": 54,
     "metadata": {},
     "output_type": "execute_result"
    }
   ],
   "source": [
    "arr = np.zeros((2,3)) # in this tuple containing the number of rows and columns\n",
    "arr"
   ]
  },
  {
   "cell_type": "code",
   "execution_count": 3,
   "metadata": {},
   "outputs": [
    {
     "data": {
      "text/plain": [
       "array([[1., 1., 1.],\n",
       "       [1., 1., 1.]])"
      ]
     },
     "execution_count": 3,
     "metadata": {},
     "output_type": "execute_result"
    }
   ],
   "source": [
    "arr = np.ones((2,3)) \n",
    "arr"
   ]
  },
  {
   "cell_type": "code",
   "execution_count": 4,
   "metadata": {},
   "outputs": [
    {
     "data": {
      "text/plain": [
       "array([1., 1., 1., 1.])"
      ]
     },
     "execution_count": 4,
     "metadata": {},
     "output_type": "execute_result"
    }
   ],
   "source": [
    "arr = np.ones(4)\n",
    "arr"
   ]
  },
  {
   "cell_type": "code",
   "execution_count": 6,
   "metadata": {},
   "outputs": [
    {
     "data": {
      "text/plain": [
       "array([[1., 0., 0.],\n",
       "       [0., 1., 0.],\n",
       "       [0., 0., 1.]])"
      ]
     },
     "execution_count": 6,
     "metadata": {},
     "output_type": "execute_result"
    }
   ],
   "source": [
    "arr = np.eye(3)\n",
    "arr"
   ]
  },
  {
   "cell_type": "code",
   "execution_count": 8,
   "metadata": {},
   "outputs": [
    {
     "data": {
      "text/plain": [
       "array([[1., 0., 0., 0.],\n",
       "       [0., 1., 0., 0.],\n",
       "       [0., 0., 1., 0.]])"
      ]
     },
     "execution_count": 8,
     "metadata": {},
     "output_type": "execute_result"
    }
   ],
   "source": [
    "arr = np.eye(3,4)\n",
    "arr"
   ]
  },
  {
   "cell_type": "code",
   "execution_count": 9,
   "metadata": {},
   "outputs": [
    {
     "data": {
      "text/plain": [
       "array([[1, 0, 0, 0],\n",
       "       [0, 2, 0, 0],\n",
       "       [0, 0, 3, 0],\n",
       "       [0, 0, 0, 4]])"
      ]
     },
     "execution_count": 9,
     "metadata": {},
     "output_type": "execute_result"
    }
   ],
   "source": [
    "arr = np.diag([1,2,3,4])\n",
    "arr"
   ]
  },
  {
   "cell_type": "code",
   "execution_count": 10,
   "metadata": {},
   "outputs": [
    {
     "data": {
      "text/plain": [
       "array([1., 1., 1.])"
      ]
     },
     "execution_count": 10,
     "metadata": {},
     "output_type": "execute_result"
    }
   ],
   "source": [
    "arr = np.eye(3,4)\n",
    "np.diag(arr)"
   ]
  },
  {
   "cell_type": "code",
   "execution_count": 13,
   "metadata": {},
   "outputs": [
    {
     "data": {
      "text/plain": [
       "array([12, 14, 12,  5])"
      ]
     },
     "execution_count": 13,
     "metadata": {},
     "output_type": "execute_result"
    }
   ],
   "source": [
    "rand_arr = np.random.randint(1,20,4)# it include any random numbers in between 1 and 20 but 20 is excluded\n",
    "rand_arr"
   ]
  },
  {
   "cell_type": "code",
   "execution_count": 15,
   "metadata": {},
   "outputs": [
    {
     "data": {
      "text/plain": [
       "array([0.388127  , 0.07208821, 0.36419797, 0.44233179])"
      ]
     },
     "execution_count": 15,
     "metadata": {},
     "output_type": "execute_result"
    }
   ],
   "source": [
    "rand_arr = np.random.rand(4) # it gives the any random 4 numbers between 0 and 1 in 1D array\n",
    "rand_arr"
   ]
  },
  {
   "cell_type": "code",
   "execution_count": 16,
   "metadata": {},
   "outputs": [
    {
     "data": {
      "text/plain": [
       "array([0.09486853, 0.55652034, 0.6847667 , 0.68166733, 0.91540573,\n",
       "       0.3069705 , 0.22593553, 0.06959348, 0.45776779, 0.77736929])"
      ]
     },
     "execution_count": 16,
     "metadata": {},
     "output_type": "execute_result"
    }
   ],
   "source": [
    "rand_arr = np.random.rand(10)# it gives the any random 10 numbers between 0 and 1 in 1D array\n",
    "rand_arr"
   ]
  },
  {
   "cell_type": "code",
   "execution_count": 17,
   "metadata": {},
   "outputs": [
    {
     "data": {
      "text/plain": [
       "array([[0.11292242, 0.98796935, 0.85969448],\n",
       "       [0.32959791, 0.33918994, 0.16535857]])"
      ]
     },
     "execution_count": 17,
     "metadata": {},
     "output_type": "execute_result"
    }
   ],
   "source": [
    "rand_arr = np.random.rand(2,3)# it gives the any random numbers between 0 and 1 in 2D array \n",
    "rand_arr"
   ]
  },
  {
   "cell_type": "code",
   "execution_count": 20,
   "metadata": {},
   "outputs": [
    {
     "data": {
      "text/plain": [
       "array([ 3.17782416,  0.44099325, -0.68558926])"
      ]
     },
     "execution_count": 20,
     "metadata": {},
     "output_type": "execute_result"
    }
   ],
   "source": [
    "rand_arr = np.random.randn(3)# it gives the any random numbers close to 0 and it will be +ve numbers as well as -ve numbers\n",
    "rand_arr"
   ]
  },
  {
   "cell_type": "code",
   "execution_count": 21,
   "metadata": {},
   "outputs": [
    {
     "data": {
      "text/plain": [
       "array([[-0.36160436,  1.08913221,  1.23220214],\n",
       "       [-1.56619198, -0.24482518, -0.4937997 ]])"
      ]
     },
     "execution_count": 21,
     "metadata": {},
     "output_type": "execute_result"
    }
   ],
   "source": [
    "rand_arr = np.random.randn(2,3)\n",
    "rand_arr"
   ]
  },
  {
   "cell_type": "code",
   "execution_count": 24,
   "metadata": {},
   "outputs": [
    {
     "data": {
      "text/plain": [
       "0.14959633843213516"
      ]
     },
     "execution_count": 24,
     "metadata": {},
     "output_type": "execute_result"
    }
   ],
   "source": [
    "rand_arr = np.random.randn(10) # its mean is alway close to zero\n",
    "np.mean(rand_arr)"
   ]
  },
  {
   "cell_type": "code",
   "execution_count": null,
   "metadata": {},
   "outputs": [],
   "source": [
    ")"
   ]
  }
 ],
 "metadata": {
  "kernelspec": {
   "display_name": "Python 3",
   "language": "python",
   "name": "python3"
  },
  "language_info": {
   "codemirror_mode": {
    "name": "ipython",
    "version": 3
   },
   "file_extension": ".py",
   "mimetype": "text/x-python",
   "name": "python",
   "nbconvert_exporter": "python",
   "pygments_lexer": "ipython3",
   "version": "3.7.4"
  }
 },
 "nbformat": 4,
 "nbformat_minor": 2
}
